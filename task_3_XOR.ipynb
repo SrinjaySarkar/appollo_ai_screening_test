{
 "cells": [
  {
   "cell_type": "code",
   "execution_count": 1,
   "metadata": {},
   "outputs": [],
   "source": [
    "import tensorflow as tf\n",
    "sess = tf.InteractiveSession()\n",
    "#InteractiveSession supports less typing, as allows to run variables \n",
    "#without needing to constantly refer to the session object.\n",
    "# Desired input output mapping of XOR function:\n",
    "x_ = [[0, 0], [0, 1], [1, 0], [1, 1]] # input\n",
    "#labels=[0,      1,      1,      0]   # output =>\n",
    "expect=[[1,0],  [0,1],  [0,1], [1,0]] # ONE HOT REPRESENTATION! 'class' [1,0]==0 [0,1]==1"
   ]
  },
  {
   "cell_type": "code",
   "execution_count": 2,
   "metadata": {},
   "outputs": [],
   "source": [
    "#placeholder is not a variable. It is a value created for the tensorflow to run computation. \n",
    "x = tf.placeholder(\"float\", [None,2]) \n",
    "y_ = tf.placeholder(\"float\", [None, 2]) "
   ]
  },
  {
   "cell_type": "code",
   "execution_count": 3,
   "metadata": {},
   "outputs": [],
   "source": [
    "#number of hidden nodes in hiddel layer,for XOR we need multilayer perceptron model as it is not linearly seperable\n",
    "number_hidden_nodes = 20"
   ]
  },
  {
   "cell_type": "code",
   "execution_count": 4,
   "metadata": {},
   "outputs": [],
   "source": [
    "#initializing the weights and biases variable for 1st layer\n",
    "W = tf.Variable(tf.random_uniform([2, number_hidden_nodes], -.01, .01))\n",
    "b = tf.Variable(tf.random_uniform([number_hidden_nodes], -.01, .01))\n",
    "hidden  = tf.nn.relu(tf.matmul(x,W) + b) # first layer."
   ]
  },
  {
   "cell_type": "code",
   "execution_count": 6,
   "metadata": {},
   "outputs": [],
   "source": [
    "#initializing the weights and biases variable for 2nd layer\n",
    "W2 = tf.Variable(tf.random_uniform([number_hidden_nodes,2], -.1, .1))\n",
    "b2 = tf.Variable(tf.zeros([2]))\n",
    "hidden2 = tf.matmul(hidden, W2)"
   ]
  },
  {
   "cell_type": "code",
   "execution_count": 7,
   "metadata": {},
   "outputs": [],
   "source": [
    "#softmax function is used for multi-class classification to represent the value of output nodes as a probablity\n",
    "#it squishes the value of op nodes between 0 and 1\n",
    "#softmax=pow(e,x)/Σpow(e,x)\n",
    "y = tf.nn.softmax(hidden2)"
   ]
  },
  {
   "cell_type": "code",
   "execution_count": 8,
   "metadata": {},
   "outputs": [],
   "source": [
    "#loss function to be reduced by the perceptron\n",
    "cross_entropy = -tf.reduce_sum(y_*tf.log(y))\n",
    "#optimization that is used to optimize the weights to reduce the value of loss function\n",
    "train_step = tf.train.GradientDescentOptimizer(0.2).minimize(cross_entropy)"
   ]
  },
  {
   "cell_type": "code",
   "execution_count": 10,
   "metadata": {
    "scrolled": true
   },
   "outputs": [
    {
     "name": "stdout",
     "output_type": "stream",
     "text": [
      "WARNING:tensorflow:From <ipython-input-10-bc3bd98b3b7a>:2: initialize_all_variables (from tensorflow.python.ops.variables) is deprecated and will be removed after 2017-03-02.\n",
      "Instructions for updating:\n",
      "Use `tf.global_variables_initializer` instead.\n",
      "step 0 : entropy 2.77223\n",
      "step 1 : entropy 2.77228\n",
      "step 2 : entropy 2.7723\n",
      "step 3 : entropy 2.77221\n",
      "step 4 : entropy 2.77141\n",
      "step 5 : entropy 2.77139\n",
      "step 6 : entropy 2.77128\n",
      "step 7 : entropy 2.77033\n",
      "step 8 : entropy 2.7703\n",
      "step 9 : entropy 2.77007\n",
      "step 10 : entropy 2.76882\n",
      "step 11 : entropy 2.76883\n",
      "step 12 : entropy 2.76836\n",
      "step 13 : entropy 2.76657\n",
      "step 14 : entropy 2.76671\n",
      "step 15 : entropy 2.76578\n",
      "step 16 : entropy 2.76318\n",
      "step 17 : entropy 2.7621\n",
      "step 18 : entropy 2.76086\n",
      "step 19 : entropy 2.76061\n",
      "step 20 : entropy 2.75511\n",
      "step 21 : entropy 2.75505\n",
      "step 22 : entropy 2.75312\n",
      "step 23 : entropy 2.74488\n",
      "step 24 : entropy 2.74693\n",
      "step 25 : entropy 2.74172\n",
      "step 26 : entropy 2.72992\n",
      "step 27 : entropy 2.72703\n",
      "step 28 : entropy 2.72494\n",
      "step 29 : entropy 2.71774\n",
      "step 30 : entropy 2.70314\n",
      "step 31 : entropy 2.69291\n",
      "step 32 : entropy 2.68981\n",
      "step 33 : entropy 2.68262\n",
      "step 34 : entropy 2.6548\n",
      "step 35 : entropy 2.66388\n",
      "step 36 : entropy 2.61929\n",
      "step 37 : entropy 2.60451\n",
      "step 38 : entropy 2.57798\n",
      "step 39 : entropy 2.59354\n",
      "step 40 : entropy 2.55781\n",
      "step 41 : entropy 2.53223\n",
      "step 42 : entropy 2.51222\n",
      "step 43 : entropy 2.50049\n",
      "step 44 : entropy 2.43901\n",
      "step 45 : entropy 2.43906\n",
      "step 46 : entropy 2.3702\n",
      "step 47 : entropy 2.39376\n",
      "step 48 : entropy 2.23136\n",
      "step 49 : entropy 2.36876\n",
      "step 50 : entropy 2.13372\n",
      "step 51 : entropy 2.23429\n",
      "step 52 : entropy 2.22373\n",
      "step 53 : entropy 1.98528\n",
      "step 54 : entropy 1.92492\n",
      "step 55 : entropy 1.93424\n",
      "step 56 : entropy 2.04711\n",
      "step 57 : entropy 1.73003\n",
      "step 58 : entropy 1.61673\n",
      "step 59 : entropy 1.61983\n",
      "step 60 : entropy 1.77815\n",
      "step 61 : entropy 1.41965\n",
      "step 62 : entropy 1.49463\n",
      "step 63 : entropy 1.22043\n",
      "step 64 : entropy 1.46009\n",
      "step 65 : entropy 1.1051\n",
      "step 66 : entropy 1.21106\n"
     ]
    }
   ],
   "source": [
    "# Train\n",
    "tf.initialize_all_variables().run()\n",
    "for step in range(1000):\n",
    "    feed_dict={x: x_, y_:expect } # feed the net with our inputs and desired outputs.\n",
    "    e,a=sess.run([cross_entropy,train_step],feed_dict)\n",
    "    if e<1:break # early stopping ,stop when the weights combination gives us the best result\n",
    "    print (\"step %d : entropy %s\" % (step,e)) # error/loss should decrease over time"
   ]
  },
  {
   "cell_type": "code",
   "execution_count": 12,
   "metadata": {},
   "outputs": [
    {
     "name": "stdout",
     "output_type": "stream",
     "text": [
      "accuracy 1.0\n",
      "[0 1 1 0]\n"
     ]
    }
   ],
   "source": [
    "# Test trained model\n",
    "correct_prediction = tf.equal(tf.argmax(y,1), tf.argmax(y_,1)) # argmax along dim-1\n",
    "accuracy = tf.reduce_mean(tf.cast(correct_prediction, \"float\")) # [True, False, True, True] -> [1,0,1,1] -> 0.75.\n",
    "\n",
    "print (\"accuracy %s\"%(accuracy.eval({x: x_, y_: expect})))\n",
    "\n",
    "learned_output=tf.argmax(y,1)\n",
    "print (learned_output.eval({x: x_}))"
   ]
  }
 ],
 "metadata": {
  "kernelspec": {
   "display_name": "Python 3",
   "language": "python",
   "name": "python3"
  },
  "language_info": {
   "codemirror_mode": {
    "name": "ipython",
    "version": 3
   },
   "file_extension": ".py",
   "mimetype": "text/x-python",
   "name": "python",
   "nbconvert_exporter": "python",
   "pygments_lexer": "ipython3",
   "version": "3.5.5"
  }
 },
 "nbformat": 4,
 "nbformat_minor": 2
}
